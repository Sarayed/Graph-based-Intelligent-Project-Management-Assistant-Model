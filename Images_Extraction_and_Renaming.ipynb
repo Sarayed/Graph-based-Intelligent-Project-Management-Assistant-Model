{
  "nbformat": 4,
  "nbformat_minor": 0,
  "metadata": {
    "colab": {
      "provenance": []
    },
    "kernelspec": {
      "name": "python3",
      "display_name": "Python 3"
    },
    "language_info": {
      "name": "python"
    }
  },
  "cells": [
    {
      "cell_type": "code",
      "execution_count": null,
      "metadata": {
        "colab": {
          "base_uri": "https://localhost:8080/"
        },
        "id": "mO5NBQVrVuTo",
        "outputId": "404d92c3-966f-456d-e3b6-11afd3cbf94e"
      },
      "outputs": [
        {
          "output_type": "stream",
          "name": "stdout",
          "text": [
            "Collecting PyMuPDF\n",
            "  Downloading PyMuPDF-1.23.5-cp310-none-manylinux2014_x86_64.whl (4.3 MB)\n",
            "\u001b[2K     \u001b[90m━━━━━━━━━━━━━━━━━━━━━━━━━━━━━━━━━━━━━━━━\u001b[0m \u001b[32m4.3/4.3 MB\u001b[0m \u001b[31m36.9 MB/s\u001b[0m eta \u001b[36m0:00:00\u001b[0m\n",
            "\u001b[?25hCollecting PyMuPDFb==1.23.5 (from PyMuPDF)\n",
            "  Downloading PyMuPDFb-1.23.5-py3-none-manylinux2014_x86_64.manylinux_2_17_x86_64.whl (30.6 MB)\n",
            "\u001b[2K     \u001b[90m━━━━━━━━━━━━━━━━━━━━━━━━━━━━━━━━━━━━━━━━\u001b[0m \u001b[32m30.6/30.6 MB\u001b[0m \u001b[31m50.9 MB/s\u001b[0m eta \u001b[36m0:00:00\u001b[0m\n",
            "\u001b[?25hInstalling collected packages: PyMuPDFb, PyMuPDF\n",
            "Successfully installed PyMuPDF-1.23.5 PyMuPDFb-1.23.5\n"
          ]
        }
      ],
      "source": [
        "!pip install PyMuPDF"
      ]
    },
    {
      "cell_type": "markdown",
      "source": [
        "# **Images Extraction From PDF File (PMI)**"
      ],
      "metadata": {
        "id": "8SJgcxzjZ5c2"
      }
    },
    {
      "cell_type": "code",
      "source": [
        "import fitz\n",
        "import os\n",
        "\n",
        "def extract_images(pdf_path, output_folder):\n",
        "    os.makedirs(output_folder, exist_ok=True)\n",
        "    image_counter = 1\n",
        "\n",
        "    pdf_document = fitz.open(pdf_path)\n",
        "\n",
        "    for page_num in range(pdf_document.page_count):\n",
        "        page = pdf_document.load_page(page_num)\n",
        "        image_list = page.get_images(full=True)\n",
        "\n",
        "        for image_index, img in enumerate(image_list):\n",
        "            xref = img[0]\n",
        "            base_image = pdf_document.extract_image(xref)\n",
        "            image_data = base_image[\"image\"]\n",
        "\n",
        "            image_filename = os.path.join(output_folder, f\"image_{image_counter}.png\")\n",
        "            with open(image_filename, \"wb\") as image_file:\n",
        "                image_file.write(image_data)\n",
        "\n",
        "            image_counter += 1\n",
        "\n",
        "    pdf_document.close()\n",
        "\n",
        "pdf_path = \"/content/practice-standard-project-risk-management.pdf\"\n",
        "output_folder = \"output_images\"\n",
        "extract_images(pdf_path, output_folder)\n"
      ],
      "metadata": {
        "id": "07YhoblOW55d"
      },
      "execution_count": null,
      "outputs": []
    },
    {
      "cell_type": "markdown",
      "source": [
        "# **Extract Figure Titles**\n",
        "\n"
      ],
      "metadata": {
        "id": "r-68GwJjaCM9"
      }
    },
    {
      "cell_type": "code",
      "source": [
        "import re\n",
        "\n",
        "def extract_figures_from_txt(txt_file_path):\n",
        "    figures = []\n",
        "\n",
        "    with open(txt_file_path, 'r') as txt_file:\n",
        "        current_figure = \"\"\n",
        "        for line in txt_file:\n",
        "            # Remove the newline character at the end of the line\n",
        "            line = line.rstrip('\\n')\n",
        "\n",
        "            # Check if the line starts with \"Figure\" or has leading whitespace and \"Figure\"\n",
        "            if re.match(r'^\\s*Figure+', line) and \".\" in line:\n",
        "                # If we have a current figure, add it to the list\n",
        "                if current_figure:\n",
        "                    figures.append(current_figure)\n",
        "                current_figure = line\n",
        "\n",
        "        # Add the last figure if it exists\n",
        "        if current_figure:\n",
        "            figures.append(current_figure)\n",
        "\n",
        "    return figures\n",
        "\n",
        "txt_file_path = '/content/pmi_chapters_cleaned.txt'\n",
        "extracted_figures = extract_figures_from_txt(txt_file_path)\n",
        "\n",
        "# Output file path for the extracted figures\n",
        "output_file_path = '/content/extracted_figures.txt'\n",
        "\n",
        "# Write the extracted figures to a new file\n",
        "with open(output_file_path, 'w') as output_file:\n",
        "    for figure in extracted_figures:\n",
        "        output_file.write(figure + '\\n')\n",
        "\n",
        "print(f\"Extracted figures have been saved to {output_file_path}\")\n"
      ],
      "metadata": {
        "colab": {
          "base_uri": "https://localhost:8080/"
        },
        "id": "QaCUAR6zGsHY",
        "outputId": "90ec7753-82b1-4caa-86ff-0d0703604926"
      },
      "execution_count": null,
      "outputs": [
        {
          "output_type": "stream",
          "name": "stdout",
          "text": [
            "Extracted figures have been saved to /content/extracted_figures.txt\n"
          ]
        }
      ]
    },
    {
      "cell_type": "markdown",
      "source": [
        "# **Extract Table Titles**"
      ],
      "metadata": {
        "id": "hrgqTfmLaQY1"
      }
    },
    {
      "cell_type": "code",
      "source": [
        "import re\n",
        "\n",
        "# Regular expressions for lines starting with \"Figure\" and \"Table\"\n",
        "figure_pattern = r'^\\s*Figure .*$'\n",
        "table_pattern = '^\\s*[Tt][Aa][Bb][Ll][Ee] .*$'\n",
        "\n",
        "figures_and_tables = []\n",
        "\n",
        "with open('/content/pmi_appendix_cleaned.txt', 'r') as file:\n",
        "    for line in file:\n",
        "        if not re.search(r'\\(continued\\)', line) and (re.match(figure_pattern, line) or re.match(table_pattern, line)):\n",
        "            figures_and_tables.append(line.strip())\n",
        "\n",
        "# Now, the 'figures_and_tables' list contains lines starting with \"Figure\" or \"Table\"\n",
        "# that do not contain the word \"(continued)\"\n",
        "figures_and_tables\n",
        "\n",
        "# Writing the contents of figures_and_tables to a text file\n",
        "output_file_path = '/content/figures_and_tables.txt'\n",
        "\n",
        "with open(output_file_path, 'w') as output_file:\n",
        "    for line in figures_and_tables:\n",
        "        output_file.write(line + '\\n')\n",
        "\n",
        "print(f\"Contents of 'figures_and_tables' have been written to {output_file_path}\")\n",
        "\n"
      ],
      "metadata": {
        "colab": {
          "base_uri": "https://localhost:8080/"
        },
        "id": "tJh0PV5vZwlN",
        "outputId": "015dd332-bc6a-46b0-dfd6-fb03606c0ce8"
      },
      "execution_count": null,
      "outputs": [
        {
          "output_type": "stream",
          "name": "stdout",
          "text": [
            "Contents of 'figures_and_tables' have been written to /content/figures_and_tables.txt\n"
          ]
        }
      ]
    },
    {
      "cell_type": "code",
      "source": [
        "file_path = '/content/figures_and_tables.txt'  # Replace with your file path\n",
        "\n",
        "# Text to be added to the file\n",
        "text_to_add = \"TABLE D4.\\nTABLE D5.\"\n",
        "\n",
        "# Open the file in append mode and write the text\n",
        "with open(file_path, 'a') as file:\n",
        "    file.write(text_to_add)  # Adding a newline before the new content\n",
        "\n",
        "print(\"Text added to the file.\")"
      ],
      "metadata": {
        "colab": {
          "base_uri": "https://localhost:8080/"
        },
        "id": "ygZnO7v-6R6P",
        "outputId": "fc8c56ae-eaf5-47fe-a1f7-affe3a6c76bd"
      },
      "execution_count": null,
      "outputs": [
        {
          "output_type": "stream",
          "name": "stdout",
          "text": [
            "Text added to the file.\n"
          ]
        }
      ]
    },
    {
      "cell_type": "markdown",
      "source": [
        "# **Order List **"
      ],
      "metadata": {
        "id": "mSh4c5-Z1QGX"
      }
    },
    {
      "cell_type": "code",
      "source": [
        "# Read the content from figures_and_tables.txt\n",
        "file_path = '/content/figures_and_tables.txt'\n",
        "\n",
        "with open(file_path, 'r') as file:\n",
        "    lines = file.readlines()\n",
        "\n",
        "# Separate figures and tables based on 'Figure' and 'Table'\n",
        "figures = [line.strip() for line in lines if line.lower().lstrip().startswith('figure')]\n",
        "tables = [line.strip() for line in lines if line.lower().lstrip().startswith('table')]\n",
        "\n",
        "# Define a function to extract the numeric part from the figure/table names\n",
        "def extract_number(text):\n",
        "    # Check for a pattern like 'D' followed by numbers\n",
        "    match = re.search(r'\\b[Dd]\\d+\\b', text)\n",
        "    return int(match.group(0)[1:]) if match else float('inf')\n",
        "\n",
        "# Sort figures and tables based on their numeric part\n",
        "sorted_figures = sorted(figures, key=extract_number)\n",
        "sorted_tables = sorted(tables, key=extract_number)\n",
        "\n",
        "# Combine figures followed by tables\n",
        "ordered_list = sorted_figures + sorted_tables\n",
        "\n",
        "# Write the ordered content to a new file\n",
        "output_file_path = '/content/ordered_figures_and_tables.txt'\n",
        "\n",
        "with open(output_file_path, 'w') as output_file:\n",
        "    for line in ordered_list:\n",
        "        output_file.write(line + '\\n')\n",
        "\n",
        "print(f\"Ordered list of figures and tables has been written to {output_file_path}\")\n"
      ],
      "metadata": {
        "colab": {
          "base_uri": "https://localhost:8080/"
        },
        "id": "toEFnQmUyU8f",
        "outputId": "22da426d-5f4c-41d1-9230-2b984c93523c"
      },
      "execution_count": null,
      "outputs": [
        {
          "output_type": "stream",
          "name": "stdout",
          "text": [
            "Ordered list of figures and tables has been written to /content/ordered_figures_and_tables.txt\n"
          ]
        }
      ]
    },
    {
      "cell_type": "markdown",
      "source": [
        "# **Merge**"
      ],
      "metadata": {
        "id": "DgoPyKGA1ULG"
      }
    },
    {
      "cell_type": "code",
      "source": [
        "# Define the file paths\n",
        "figures_file_path = '/content/extracted_figures.txt'\n",
        "ordered_file_path = '/content/ordered_figures_and_tables.txt'\n",
        "merged_file_path = '/content/merged_figures_and_tables.txt'\n",
        "\n",
        "# Read contents of the figures file\n",
        "with open(figures_file_path, 'r') as figures_file:\n",
        "    figures_content = figures_file.read()\n",
        "\n",
        "# Read contents of the ordered figures and tables file\n",
        "with open(ordered_file_path, 'r') as ordered_file:\n",
        "    ordered_content = ordered_file.read()\n",
        "\n",
        "# Merge figures and ordered content\n",
        "merged_content = figures_content + ordered_content\n",
        "\n",
        "# Write the merged content to a new file\n",
        "with open(merged_file_path, 'w') as merged_file:\n",
        "    merged_file.write(merged_content)\n",
        "\n",
        "\n",
        "\n",
        "print(f\"Merged figures and tables have been saved to {merged_file_path}\")\n"
      ],
      "metadata": {
        "colab": {
          "base_uri": "https://localhost:8080/"
        },
        "id": "quXlzY79zKbv",
        "outputId": "c15d30a5-949d-4252-d617-2787eabe75ad"
      },
      "execution_count": null,
      "outputs": [
        {
          "output_type": "stream",
          "name": "stdout",
          "text": [
            "Merged figures and tables have been saved to /content/merged_figures_and_tables.txt\n"
          ]
        }
      ]
    },
    {
      "cell_type": "markdown",
      "source": [
        "# *Renaming*"
      ],
      "metadata": {
        "id": "CD5T2DZj1aj2"
      }
    },
    {
      "cell_type": "code",
      "source": [
        "import os\n",
        "\n",
        "# Define the paths to the folders and the text file\n",
        "image_folder = \"/content/output_images\"  # Replace with your image folder path\n",
        "text_file_path = \"/content/merged_figures_and_tables.txt\"  # Replace with your text file path\n",
        "\n",
        "# Read the lines from the text file\n",
        "with open(text_file_path, \"r\") as text_file:\n",
        "    lines = [line.strip() for line in text_file.readlines()]\n",
        "\n",
        "# Ensure that the number of lines matches the number of files in the folder\n",
        "files_in_folder = sorted(os.listdir(image_folder), key=lambda x: int(os.path.splitext(x)[0].split('.')[0]))\n",
        "if len(lines) != len(files_in_folder):\n",
        "    print(\"Error: The number of lines in the text file does not match the number of files in the folder.\")\n",
        "    print(\"Renaming process cannot be completed.\")\n",
        "else:\n",
        "    # Perform the renaming process using the lines from the text file\n",
        "    for i, image_file_name in enumerate(files_in_folder, start=1):\n",
        "        new_image_file_name = f\"{lines[i - 1]}.png\"\n",
        "        os.rename(os.path.join(image_folder, image_file_name),\n",
        "                  os.path.join(image_folder, new_image_file_name))\n",
        "        print(f\"Renamed {image_file_name} to {new_image_file_name}\")\n",
        "\n",
        "    print(\"Renaming completed.\")\n"
      ],
      "metadata": {
        "colab": {
          "base_uri": "https://localhost:8080/"
        },
        "id": "R08DvZiORyVT",
        "outputId": "81f37aa7-391f-4fbf-9b81-55ba17711ed0"
      },
      "execution_count": null,
      "outputs": [
        {
          "output_type": "stream",
          "name": "stdout",
          "text": [
            "Renamed 1.png to Figure 1-1. Hierarchy of PMI Project Risk Management Resources.png\n",
            "Renamed 2.png to Figure 1-2. Critical Success Factors for Project Risk Management.png\n",
            "Renamed 3.png to Figure 3-1. Project Risk Management Process Flow Diagram.png\n",
            "Renamed 4.png to Figure 4-1. Key Areas of Focus for the Plan Risk Management Process.png\n",
            "Renamed 5.png to Figure 5-1. Three Perspectives of Risk Identification.png\n",
            "Renamed 6.png to Figure 5-2. Cause, Risk, and Effect.png\n",
            "Renamed 7.png to Figure 6 -1. Building Risk Analysis Credibility.png\n",
            "Renamed 8.png to Figure 6-2. The Perform Qualitative Risk Analysis Process.png\n",
            "Renamed 9.png to Figure 7-1. Comparison of Qualitative and Quantitative Approaches.png\n",
            "Renamed 10.png to Figure 7-2. Structure of a Quantitative Risk Analysis.png\n",
            "Renamed 11.png to Figure 8-1. Critical Success Factors for Risk Response Planning.png\n",
            "Renamed 12.png to Figure 8-2. The Steps Involved in Planning Risk Responses.png\n",
            "Renamed 13.png to Figure 9-1. Schematic Representation of the Monitor and Control Risks Process.png\n",
            "Renamed 14.png to Figure D1. Example of a Constraint Analysis with Fields for Description and Analysis Results.png\n",
            "Renamed 15.png to Figure D2. Example of a Cause and Effect or Ishikawa Diagram for Staff Leaving.png\n",
            "Renamed 16.png to Figure D3. Example (Fragment) of a Checklist with Typical Structure of Category, Subcategory,.png\n",
            "Renamed 17.png to Figure D4. Fault Tree Analysis of the Possible Causes of a Crash at the Main Road Junction.png\n",
            "Renamed 18.png to Figure D5. Example of a Force Field Analysis and the Balance of Forces For and Against Change.png\n",
            "Renamed 19.png to Figure D6. Example of an Influence Diagram in a Bidding Situation.png\n",
            "Renamed 20.png to Figure D7. Example of a Generic Risk Breakdown Structure.png\n",
            "Renamed 21.png to Figure D8. Example of a Root Cause Analysis.png\n",
            "Renamed 22.png to Figure D9. Example of a SWOT Analysis Structure.png\n",
            "Renamed 23.png to Figure D10. Example of a Simple System Dynamics Model with Feedback Loops.png\n",
            "Renamed 24.png to Figure D11. Example of Definitions for Levels of Probability and Impact on Four Specific Objectives.png\n",
            "Renamed 25.png to Figure D12. Example of Probability-Impact Matrix Used to Sort Risks (Threats and Opportunities) into.png\n",
            "Renamed 26.png to Figure D13. Example of Analytic Hierarchy Process Computations to Determine the Relative Weighting.png\n",
            "Renamed 27.png to Figure D14. Example of a Decision Tree for Choosing between an Experimental Technology vs..png\n",
            "Renamed 28.png to Figure D15. Example of an Expected Monetary Value Calculation when there are Three Uncertain.png\n",
            "Renamed 29.png to Figure D16. Example Histogram from Monte Carlo Simulation of a Project Schedule.png\n",
            "Renamed 30.png to Figure D17. Example Histogram from Monte Carlo Simulation of a Project Cost Estimate.png\n",
            "Renamed 31.png to Figure D18. Example of Comparing Options by their Ratings Along Four Prioritized Criteria.png\n",
            "Renamed 32.png to Figure D19. Simple Critical Chain Network.png\n",
            "Renamed 33.png to Figure D20. The Risk Reassessment Process.png\n",
            "Renamed 34.png to Table D1. Example of Plan Risk Management Approach.png\n",
            "Renamed 35.png to Table D2. Identify Risks.png\n",
            "Renamed 36.png to Table D3. Techniques for Perform Qualitative Risk Analysis.png\n",
            "Renamed 37.png to TABLE D4..png\n",
            "Renamed 38.png to TABLE D5..png\n",
            "Renamed 39.png to TABLE D6. Monitor and Control Risks Example.png\n",
            "Renaming completed.\n"
          ]
        }
      ]
    },
    {
      "cell_type": "markdown",
      "source": [
        "# **In Case of errors **"
      ],
      "metadata": {
        "id": "NWkF4Yz-KJog"
      }
    },
    {
      "cell_type": "code",
      "source": [
        "import os\n",
        "\n",
        "# Directory path where your images are stored\n",
        "directory_path = '/content/output_images'  # Replace with your directory path\n",
        "\n",
        "# List all files in the directory\n",
        "files = os.listdir(directory_path)\n",
        "\n",
        "# Count the number of image files (assumes image extensions like .jpg, .png, .jpeg)\n",
        "image_count = sum(1 for file in files if file.lower().endswith(('.jpg', '.jpeg', '.png', '.gif', '.bmp', '.tiff')))\n",
        "\n",
        "print(f'/content/output_images has {image_count} image files.')\n"
      ],
      "metadata": {
        "colab": {
          "base_uri": "https://localhost:8080/"
        },
        "id": "SG4CHAt9HlOA",
        "outputId": "f67866cd-baa1-4b0d-9115-3fde8dd95873"
      },
      "execution_count": null,
      "outputs": [
        {
          "output_type": "stream",
          "name": "stdout",
          "text": [
            "/content/output_images has 39 image files.\n"
          ]
        }
      ]
    },
    {
      "cell_type": "code",
      "source": [
        "file_path = '/content/merged_figures_and_tables.txt'  # Replace with your file path\n",
        "\n",
        "# Open the file and count the lines\n",
        "with open(file_path, 'r') as file:\n",
        "    line_count = sum(1 for line in file)\n",
        "\n",
        "print(f\"The file '{file_path}' has {line_count} lines.\")\n"
      ],
      "metadata": {
        "colab": {
          "base_uri": "https://localhost:8080/"
        },
        "id": "UEVZ2cKEINgq",
        "outputId": "1f35bfbe-0b40-45f6-e24c-42bf3aa2372f"
      },
      "execution_count": null,
      "outputs": [
        {
          "output_type": "stream",
          "name": "stdout",
          "text": [
            "The file '/content/merged_figures_and_tables.txt' has 39 lines.\n"
          ]
        }
      ]
    },
    {
      "cell_type": "code",
      "source": [
        "import os\n",
        "\n",
        "# Directory path where your images are stored\n",
        "directory_path = '/content/output_images'  # Replace with your directory path\n",
        "\n",
        "# List all files in the directory\n",
        "files = os.listdir(directory_path)\n",
        "\n",
        "# Check for hidden files or directories\n",
        "hidden_files = [file for file in files if file.startswith('.')]\n",
        "\n",
        "# Count the number of image files (assumes image extensions like .jpg, .png, .jpeg)\n",
        "image_count = sum(1 for file in files if file.lower().endswith(('.jpg', '.jpeg', '.png', '.gif', '.bmp', '.tiff')))\n",
        "\n",
        "# Print the counts and details\n",
        "print(f'Total files: {len(files)}')\n",
        "print(f'Image files (jpg, jpeg, png, gif, bmp, tiff): {image_count}')\n",
        "print(f'Hidden files or directories: {hidden_files}')\n",
        "\n",
        "# Check file formats and types\n",
        "for file in files:\n",
        "    if file.lower().endswith(('.jpg', '.jpeg', '.png', '.gif', '.bmp', '.tiff')):\n",
        "        print(f'{file} is an image file.')\n",
        "    else:\n",
        "        print(f'{file} is not an image file.')\n",
        "\n",
        "# List files without expected image extensions\n",
        "non_image_files = [file for file in files if not file.lower().endswith(('.jpg', '.jpeg', '.png', '.gif', '.bmp', '.tiff'))]\n",
        "print(f'Non-image files: {non_image_files}')\n"
      ],
      "metadata": {
        "colab": {
          "base_uri": "https://localhost:8080/"
        },
        "id": "Th-6xc1JJzFR",
        "outputId": "82e743cf-a5af-419f-9c08-4bf65d30d3df"
      },
      "execution_count": null,
      "outputs": [
        {
          "output_type": "stream",
          "name": "stdout",
          "text": [
            "Total files: 39\n",
            "Image files (jpg, jpeg, png, gif, bmp, tiff): 39\n",
            "Hidden files or directories: []\n",
            "26.png is an image file.\n",
            "18.png is an image file.\n",
            "13.png is an image file.\n",
            "6.png is an image file.\n",
            "23.png is an image file.\n",
            "28.png is an image file.\n",
            "21.png is an image file.\n",
            "10.png is an image file.\n",
            "19.png is an image file.\n",
            "11.png is an image file.\n",
            "5.png is an image file.\n",
            "25.png is an image file.\n",
            "30.png is an image file.\n",
            "1.png is an image file.\n",
            "37.png is an image file.\n",
            "4.png is an image file.\n",
            "2.png is an image file.\n",
            "22.png is an image file.\n",
            "31.png is an image file.\n",
            "17.png is an image file.\n",
            "38.png is an image file.\n",
            "14.png is an image file.\n",
            "29.png is an image file.\n",
            "12.png is an image file.\n",
            "3.png is an image file.\n",
            "20.png is an image file.\n",
            "24.png is an image file.\n",
            "35.png is an image file.\n",
            "34.png is an image file.\n",
            "27.png is an image file.\n",
            "36.png is an image file.\n",
            "9.png is an image file.\n",
            "7.png is an image file.\n",
            "16.png is an image file.\n",
            "8.png is an image file.\n",
            "15.png is an image file.\n",
            "32.png is an image file.\n",
            "39.png is an image file.\n",
            "33.png is an image file.\n",
            "Non-image files: []\n"
          ]
        }
      ]
    },
    {
      "cell_type": "code",
      "source": [
        "import os\n",
        "\n",
        "directory_path = '/content/output_images'  # Replace with your directory path\n",
        "\n",
        "hidden_directory = '.ipynb_checkpoints'\n",
        "\n",
        "# Check if the hidden directory exists\n",
        "if os.path.exists(os.path.join(directory_path, hidden_directory)):\n",
        "    # Remove the hidden directory\n",
        "    os.rmdir(os.path.join(directory_path, hidden_directory))\n",
        "    print(f\"Directory '{hidden_directory}' has been deleted.\")\n",
        "else:\n",
        "    print(f\"Directory '{hidden_directory}' does not exist.\")\n"
      ],
      "metadata": {
        "colab": {
          "base_uri": "https://localhost:8080/"
        },
        "id": "SdhK8PGDKB1A",
        "outputId": "b756da79-3f38-42fe-ed91-91c11a622c3b"
      },
      "execution_count": null,
      "outputs": [
        {
          "output_type": "stream",
          "name": "stdout",
          "text": [
            "Directory '.ipynb_checkpoints' has been deleted.\n"
          ]
        }
      ]
    },
    {
      "cell_type": "markdown",
      "source": [],
      "metadata": {
        "id": "o5wwonJtagaP"
      }
    }
  ]
}