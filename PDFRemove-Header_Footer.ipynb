{
  "nbformat": 4,
  "nbformat_minor": 0,
  "metadata": {
    "colab": {
      "provenance": []
    },
    "kernelspec": {
      "name": "python3",
      "display_name": "Python 3"
    },
    "language_info": {
      "name": "python"
    }
  },
  "cells": [
    {
      "cell_type": "code",
      "execution_count": null,
      "metadata": {
        "colab": {
          "base_uri": "https://localhost:8080/"
        },
        "id": "DHCNoM9H-BUT",
        "outputId": "4c0627fe-7df8-4798-d56b-4d7f17fbba83"
      },
      "outputs": [
        {
          "output_type": "stream",
          "name": "stdout",
          "text": [
            "Collecting PyPDF2\n",
            "  Downloading pypdf2-3.0.1-py3-none-any.whl (232 kB)\n",
            "\u001b[?25l     \u001b[90m━━━━━━━━━━━━━━━━━━━━━━━━━━━━━━━━━━━━━━━━\u001b[0m \u001b[32m0.0/232.6 kB\u001b[0m \u001b[31m?\u001b[0m eta \u001b[36m-:--:--\u001b[0m\r\u001b[2K     \u001b[91m━━━━━━━━━━\u001b[0m\u001b[91m╸\u001b[0m\u001b[90m━━━━━━━━━━━━━━━━━━━━━━━━━━━━━\u001b[0m \u001b[32m61.4/232.6 kB\u001b[0m \u001b[31m1.9 MB/s\u001b[0m eta \u001b[36m0:00:01\u001b[0m\r\u001b[2K     \u001b[90m━━━━━━━━━━━━━━━━━━━━━━━━━━━━━━━━━━━━━━━\u001b[0m \u001b[32m232.6/232.6 kB\u001b[0m \u001b[31m3.9 MB/s\u001b[0m eta \u001b[36m0:00:00\u001b[0m\n",
            "\u001b[?25hInstalling collected packages: PyPDF2\n",
            "Successfully installed PyPDF2-3.0.1\n"
          ]
        }
      ],
      "source": [
        "!pip install PyPDF2"
      ]
    },
    {
      "cell_type": "code",
      "source": [
        "import PyPDF2\n",
        "import os\n",
        "\n",
        "def remove_header_footer(input_path, output_path):\n",
        "    pdf_reader = PyPDF2.PdfReader(input_path)\n",
        "    pdf_writer = PyPDF2.PdfWriter()\n",
        "\n",
        "    num_pages = len(pdf_reader.pages)\n",
        "    for page_num in range(num_pages):\n",
        "        page = pdf_reader.pages[page_num]\n",
        "        page_content = page.extract_text()\n",
        "\n",
        "        # Adjust the values below according to the header and footer size\n",
        "        header_height = 100  # Example value, modify as per your PDF\n",
        "        footer_height = 80  # Example value, modify as per your PDF\n",
        "        additional_margin = 0.5 * 28.35  # Additional margin in points (1 cm = 28.35 points)\n",
        "\n",
        "        # Crop the page to remove the header and footer\n",
        "        page.mediabox.upper_right = (\n",
        "            page.mediabox.upper_right[0],\n",
        "            page.mediabox.upper_right[1] - footer_height - additional_margin\n",
        "        )\n",
        "        page.mediabox.lower_left = (\n",
        "            page.mediabox.lower_left[0],\n",
        "            page.mediabox.lower_left[1] + header_height\n",
        "        )\n",
        "\n",
        "        pdf_writer.add_page(page)\n",
        "  # Create the output directory if it doesn't exist\n",
        "    os.makedirs(os.path.dirname(output_path), exist_ok=True)\n",
        "\n",
        "    with open(output_path, 'wb') as output_file:\n",
        "        pdf_writer.write(output_file)\n",
        "\n",
        "# Usage example\n",
        "input_file = '/content/practice-standard-project-risk-management-pages-deleted.pdf'\n",
        "output_file = '/content/output.pdf'  # Provide a valid output file path\n",
        "remove_header_footer(input_file, output_file)"
      ],
      "metadata": {
        "id": "jNldbbBp-QFj"
      },
      "execution_count": null,
      "outputs": []
    }
  ]
}